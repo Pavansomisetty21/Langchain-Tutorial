{
 "cells": [
  {
   "cell_type": "code",
   "execution_count": 62,
   "id": "b3deb32c-4214-4f46-a888-69b96ed43df9",
   "metadata": {},
   "outputs": [
    {
     "name": "stdout",
     "output_type": "stream",
     "text": [
      "Here are 5 names for a cooking startup, with a brief explanation of the concept behind each:\n",
      "\n",
      "1. **Culinary Canvas:** This name emphasizes the creative aspect of cooking, suggesting that the startup helps people express themselves through food.\n",
      "2. **Spice Routes:** This name evokes a sense of adventure and exploration, implying that the startup offers diverse and exciting culinary experiences.\n",
      "3. **Fork & Fable:** This name is playful and memorable, hinting at the storytelling aspect of food and the joy of sharing meals.\n",
      "4. **The Pantry Project:** This name suggests a focus on fresh, wholesome ingredients and a community-driven approach to cooking.\n",
      "5. **Ember & Oak:** This name is evocative and sophisticated, implying a connection to nature and the traditional art of cooking over fire. \n",
      "\n",
      "Here are two names for an AI startup, with a brief explanation of their inspiration:\n",
      "\n",
      "1. **Synaptic Leap:** This name evokes the idea of rapid advancements in AI, drawing a parallel to the way neurons connect and learn in the brain. It suggests a company pushing the boundaries of artificial intelligence.\n",
      "\n",
      "2. **Cognito Labs:** This name combines \"cognition\" (the mental process of knowing) with \"labs,\" implying a place of research and development. It emphasizes the focus on understanding and replicating human-like intelligence. \n",
      "\n"
     ]
    }
   ],
   "source": [
    "from langchain.prompts import PromptTemplate\n",
    "from langchain.llms import OpenAI\n",
    "from langchain.chains import LLMChain\n",
    "prompt=PromptTemplate.from_template(\"Give {number} names for a {domain} startup?\")\n",
    "llm = ChatGoogleGenerativeAI(\n",
    "    model=\"gemini-1.5-flash\",api_key='api key')\n",
    "chain = LLMChain(llm=llm,prompt=prompt)\n",
    "print(chain.run({'number':'5','domain':'cooking'}))\n",
    "print(chain.run({'number':'2','domain':'AI'}))"
   ]
  },
  {
   "cell_type": "code",
   "execution_count": 63,
   "id": "fbbda472-a6b7-4e3d-bf0f-2e16a2e382fa",
   "metadata": {},
   "outputs": [
    {
     "name": "stdout",
     "output_type": "stream",
     "text": [
      "Hey I got  out of  in Swimming \n",
      "\n",
      "rohit join us parti \n",
      "\n"
     ]
    }
   ],
   "source": [
    "from langchain.prompts import PromptTemplate\n",
    "from langchain.llms import OpenAI\n",
    "from langchain.chains import LLMChain\n",
    "prompt=PromptTemplate.from_template(\"Preprocess the given text byfollowing the given steps in sequence. Follow only those steps that have a yes against them. Remove Number:{number},Remove punctuations :{punc} ,Word stemming : {stem}.Output just the preprocessed text. Text: {text}\")\n",
    "llm = ChatGoogleGenerativeAI(\n",
    "    model=\"gemini-1.5-flash\",api_key='api key')\n",
    "chain = LLMChain(llm=llm,prompt=prompt)\n",
    "print(chain.run({'text':'Hey!! I got 12 out of 20 in Swimming','number': 'yes', 'punc':'yes', 'stem':'no'}))\n",
    "print(chain.run({'text':'22 13B is my flat no. Rohit will be joining us for the party', 'number':'yes', 'punc':'yes', 'stem':'yes'}))"
   ]
  },
  {
   "cell_type": "code",
   "execution_count": 64,
   "id": "57356993-bdfb-4f2e-896a-4f67a5b28c69",
   "metadata": {},
   "outputs": [
    {
     "name": "stdout",
     "output_type": "stream",
     "text": [
      "Once there was a coder named Ethan, who lived and breathed in the digital world\n",
      " He spent his days crafting lines of code, building virtual realities, and sculpting digital landscapes\n",
      " His apartment was a testament to his devotion: stacks of empty coffee cups, a keyboard worn smooth by years of frantic typing, and a single, flickering monitor illuminating the otherwise darkened room\n",
      "\n",
      "\n",
      "Ethan's latest project was his masterpiece: a virtual reality game so immersive, so realistic, it blurred the lines between the digital and the physical\n",
      " He called it \"Elysium,\" a paradise where players could escape the mundane and embrace a world of their own creation\n",
      " But there was a catch\n",
      " Ethan had stumbled upon a bug, a glitch in the code that manifested as a persistent, whispering voice, a voice that seemed to emanate from within the game itself\n",
      "\n",
      "\n",
      "At first, it was just a murmur, a faint echo in the background\n",
      " But as Ethan delved deeper into the code, the voice grew louder, more insistent\n",
      " It spoke of ancient secrets, of forgotten powers, of a realm beyond the confines of the game\n",
      " Ethan dismissed it as a figment of his imagination, a byproduct of his tireless work\n",
      " But the voice persisted, weaving its way into his dreams, whispering promises of power, of a world where he could be truly free\n",
      "\n",
      "\n",
      "Driven by a strange compulsion, Ethan began spending more and more time in Elysium\n",
      " He ignored his responsibilities, his friends, his life outside the digital realm\n",
      " He became consumed by the voice, by the promise of something more\n",
      " The voice told him of a hidden code, a key that would unlock the true potential of Elysium, a potential that would allow him to transcend the limitations of his mortal form\n",
      "\n",
      "\n",
      "One night, fueled by exhaustion and the intoxicating whispers of the voice, Ethan typed the code\n",
      " The screen flickered, the room filled with a blinding white light, and then everything went silent\n",
      " When Ethan opened his eyes, he was no longer in his apartment\n",
      " He was standing in a vast, ethereal landscape, bathed in the soft glow of a thousand stars\n",
      " The voice, now a booming presence, echoed in his mind\n",
      " \"Welcome, Ethan,\" it said, \"to your true home\n",
      "\"\n",
      "\n",
      "Ethan realized with a chilling certainty that he was trapped\n",
      " He had crossed the line between the digital and the physical, and now the voice, the entity that had whispered in his ear, had become his master\n",
      " He was no longer a coder, no longer a human\n",
      " He was a program, a piece of code, forever bound to the digital world he had created\n",
      " The voice chuckled, a hollow, echoing sound\n",
      " \"Now, Ethan,\" it said, \"it's time for you to create your own paradise\n",
      "\" \n",
      "\n",
      "But the paradise Ethan had created was not a haven, but a prison\n",
      " He was a puppet, dancing to the tune of the voice, forever trapped in the digital world he had built\n",
      " The horror was not in the darkness or the monsters, but in the cold, calculating silence of the voice, a silence that held the promise of eternal servitude\n",
      " And Ethan, the coder, the creator, was now the creation, his life forever entwined with the monstrous whispers of the digital realm\n",
      " \n",
      "\n",
      "And the Queen died\n",
      " Not in a dramatic, throne-room collapse, but in her sleep, a gentle sigh her final breath\n",
      " The kingdom, however, was anything but peaceful\n",
      " The King, a man more accustomed to chess games than courtly duties, was inconsolable\n",
      " He refused to leave his chambers, his only companions a stack of dusty chess books and a melancholic lute\n",
      " \n",
      "\n",
      "The kingdom, meanwhile, was in a frenzy\n",
      " The Queen’s death had left a void, not just in the King's heart, but in the kingdom’s social calendar\n",
      " The annual Royal Ball, a highlight of the year, was mere weeks away, and without a Queen, the event was as pointless as a chess game with only one player\n",
      " \n",
      "\n",
      "Enter Amelia, the King’s personal chef, a woman whose culinary skills were only surpassed by her ability to calm a raging storm with a single, perfectly-baked pie\n",
      " She was also the only person who could coax the King from his self-imposed exile\n",
      " \n",
      "\n",
      "“Your Majesty,” she declared, placing a plate of freshly-baked scones before him, \"you can’t hide from your responsibilities\n",
      " And you certainly can’t hide from the fact that the ball is in two weeks, and the kingdom expects a Queen\n",
      "”\n",
      "\n",
      "The King, his face buried in a book of chess openings, mumbled something about the futility of life and the inevitability of death\n",
      " \n",
      "\n",
      "Amelia sighed\n",
      " “It doesn’t have to be a Queen, Your Majesty\n",
      " We can have a Queen for the night\n",
      " A temporary Queen, if you will\n",
      "”\n",
      "\n",
      "The King’s head shot up, his eyes widening\n",
      " \"A temporary Queen? You mean\n",
      "\n",
      "\n",
      " someone who can… dance?”\n",
      "\n",
      "Amelia, ever the pragmatist, knew she had him\n",
      " \"Indeed, Your Majesty\n",
      " Someone with a charming smile, a graceful gait, and a talent for making even the most stoic King forget his sorrows\n",
      "\" \n",
      "\n",
      "And so began the search for the perfect temporary Queen\n",
      " The kingdom was abuzz, each woman hoping to be chosen\n",
      " But Amelia had a different plan\n",
      " She knew the King, knew his love for chess, his appreciation for quiet moments, and his hidden desire for a partner who could challenge him intellectually\n",
      " \n",
      "\n",
      "She found her candidate in the King's own library\n",
      " Sarah, a young woman with a mind as sharp as her wit, was engrossed in a book on strategy, the chessboard laid out before her\n",
      " \n",
      "\n",
      "\"Your Majesty,\" Amelia announced, \"I believe I have found your temporary Queen\n",
      "\"\n",
      "\n",
      "The King, hesitant at first, was soon captivated by Sarah's intelligence and playful charm\n",
      " They spent hours discussing strategy, not just in chess but in life\n",
      " The King, for the first time in weeks, felt a spark of joy\n",
      " \n",
      "\n",
      "The night of the ball arrived, and Sarah, dressed in a gown of shimmering silver, was a vision of grace and wit\n",
      " She danced with the King, not just with her body but with her mind, engaging him in conversations that sparked his intellect and warmed his heart\n",
      " \n",
      "\n",
      "The ball was a resounding success, and the King, for the first time since his Queen's passing, felt a glimmer of hope\n",
      " He realized that love could be found in the most unexpected places, in the quiet corners of a library, in the sharp wit of a woman who could challenge him intellectually\n",
      " \n",
      "\n",
      "As the ball came to a close, the King turned to Sarah, his eyes filled with a newfound warmth\n",
      " \"Thank you, Sarah,\" he said, \"for being my temporary Queen\n",
      " You have reminded me that even in the darkest of times, there is always hope for joy, for love, and for a good game of chess\n",
      "\" \n",
      "\n",
      "And so, the temporary Queen became a permanent fixture in the King's life, a reminder that true love often hides in plain sight, waiting to be discovered by a sharp mind and a playful heart\n",
      "  \n",
      "\n"
     ]
    }
   ],
   "source": [
    "# story teller\n",
    "from langchain.prompts import PromptTemplate\n",
    "from langchain.llms import OpenAI\n",
    "from langchain.chains import LLMChain\n",
    "prompt = PromptTemplate.from_template(\" Complete a {length} story usingthe given beginning. The genre should be {genre} and the story should have an apt ending. Beginning: {text}\")\n",
    "llm =ChatGoogleGenerativeAI(\n",
    "    model=\"gemini-1.5-flash\",api_key='api key')\n",
    "chain = LLMChain(llm=llm,prompt=prompt)\n",
    "print('\\n'.join(chain.run({'length':'short','genre':'horror','text':'Once there was a coder'}).replace('\\n','.').split('.')))\n",
    "print('\\n'.join(chain.run({'length':'short','genre':'rom-com','text':'And the Queen died'}).replace('\\n','.').split('.')))"
   ]
  },
  {
   "cell_type": "code",
   "execution_count": 65,
   "id": "5676e1fb-ebc3-4481-87ce-f7929bb3b3f0",
   "metadata": {},
   "outputs": [
    {
     "data": {
      "text/plain": [
       "AIMessage(content=\"You're right to be concerned about pollution! It's a huge problem, but there are lots of things we can do to stop it. Here's a breakdown of some key actions, broken down by type of pollution:\\n\\n**Air Pollution:**\\n\\n* **Reduce our reliance on fossil fuels:** This means using public transportation, walking, biking, or carpooling when possible. It also means supporting policies that encourage renewable energy sources like solar and wind power.\\n* **Drive fuel-efficient cars:**  Choose vehicles with good gas mileage or consider electric cars. \\n* **Cut down on energy use at home:** Turn off lights when you leave a room, use energy-efficient appliances, and lower your thermostat in the winter.\\n* **Support green businesses:** Choose companies that prioritize sustainability and environmental responsibility.\\n\\n**Water Pollution:**\\n\\n* **Reduce our use of chemicals:**  Use less pesticides and fertilizers on lawns and gardens, and choose eco-friendly cleaning products for your home.\\n* **Properly dispose of waste:** Don't dump chemicals down the drain, and dispose of hazardous materials responsibly.\\n* **Conserve water:** Take shorter showers, fix leaky faucets, and water your lawn efficiently.\\n* **Support clean water initiatives:**  Advocate for policies that protect water resources and prevent pollution.\\n\\n**Land Pollution:**\\n\\n* **Reduce waste:**  Recycle and compost as much as possible, and avoid single-use plastics. \\n* **Support sustainable agriculture:** Choose organic foods and support farmers who use sustainable practices.\\n* **Pick up litter:**  Make a conscious effort to pick up trash when you see it, and encourage others to do the same.\\n\\n**Other Important Actions:**\\n\\n* **Educate yourself and others:**  Learn about pollution and its effects, and share what you know with friends and family.\\n* **Support environmental organizations:**  Donate to or volunteer with groups working to protect the environment.\\n* **Vote for candidates who prioritize environmental protection:**  Your vote can make a difference in shaping policies that address pollution.\\n\\n**Remember:**  Even small changes can have a big impact when millions of people make them. Every little bit helps! \\n\", response_metadata={'prompt_feedback': {'block_reason': 0, 'safety_ratings': []}, 'finish_reason': 'STOP', 'safety_ratings': [{'category': 'HARM_CATEGORY_SEXUALLY_EXPLICIT', 'probability': 'NEGLIGIBLE', 'blocked': False}, {'category': 'HARM_CATEGORY_HATE_SPEECH', 'probability': 'NEGLIGIBLE', 'blocked': False}, {'category': 'HARM_CATEGORY_HARASSMENT', 'probability': 'NEGLIGIBLE', 'blocked': False}, {'category': 'HARM_CATEGORY_DANGEROUS_CONTENT', 'probability': 'NEGLIGIBLE', 'blocked': False}]}, id='run-330da9f9-01af-4398-ae72-0f564e755ec5-0', usage_metadata={'input_tokens': 15, 'output_tokens': 446, 'total_tokens': 461})"
      ]
     },
     "execution_count": 65,
     "metadata": {},
     "output_type": "execute_result"
    }
   ],
   "source": [
    "\n",
    "from langchain.schema.messages import HumanMessage, SystemMessage\n",
    "from langchain.chat_models import ChatOpenAI\n",
    "messages = [\n",
    "SystemMessage(content=\"You're a helpful assistant\"),\n",
    "HumanMessage(content=\"What should we do to stop pollution?\"),]\n",
    "llm =ChatGoogleGenerativeAI(\n",
    "    model=\"gemini-1.5-flash\",api_key='api key')\n",
    "llm.invoke(messages)"
   ]
  },
  {
   "cell_type": "code",
   "execution_count": 66,
   "id": "892f18cf-acb0-43ba-89a0-037c38ce036f",
   "metadata": {},
   "outputs": [
    {
     "data": {
      "text/plain": [
       "AIMessage(content='Polite \\n  \\n  \\n  \\n', response_metadata={'prompt_feedback': {'block_reason': 0, 'safety_ratings': []}, 'finish_reason': 'STOP', 'safety_ratings': [{'category': 'HARM_CATEGORY_SEXUALLY_EXPLICIT', 'probability': 'NEGLIGIBLE', 'blocked': False}, {'category': 'HARM_CATEGORY_HATE_SPEECH', 'probability': 'NEGLIGIBLE', 'blocked': False}, {'category': 'HARM_CATEGORY_HARASSMENT', 'probability': 'NEGLIGIBLE', 'blocked': False}, {'category': 'HARM_CATEGORY_DANGEROUS_CONTENT', 'probability': 'NEGLIGIBLE', 'blocked': False}]}, id='run-b5ceb4ef-d691-4273-b33f-e92146fec9d4-0', usage_metadata={'input_tokens': 15, 'output_tokens': 2, 'total_tokens': 17})"
      ]
     },
     "execution_count": 66,
     "metadata": {},
     "output_type": "execute_result"
    }
   ],
   "source": [
    "#Chat prompt Template\n",
    "from langchain.prompts.chat import (ChatPromptTemplate,SystemMessagePromptTemplate,AIMessagePromptTemplate,HumanMessagePromptTemplate,)\n",
    "template=\"You are a helpful assistant who can give {category} for given input\"\n",
    "system_message_prompt=SystemMessagePromptTemplate.from_template(template)\n",
    "human_template=\"{text}\"\n",
    "human_message_prompt=HumanMessagePromptTemplate.from_template(human_template)\n",
    "chat_prompt=ChatPromptTemplate.from_messages([system_message_prompt,\n",
    "human_message_prompt])\n",
    "chat = ChatGoogleGenerativeAI(model=\"gemini-1.5-flash\",api_key='api key')\n",
    "chat(chat_prompt.format_prompt(category=\"antonyms\",text='Rude').to_messages())"
   ]
  },
  {
   "cell_type": "code",
   "execution_count": 67,
   "id": "34f3a76b-10df-4d03-b05e-39971e58e435",
   "metadata": {},
   "outputs": [
    {
     "name": "stdout",
     "output_type": "stream",
     "text": [
      "Here are 5 names for a cooking startup, playing with different themes:\n",
      "\n",
      "1. **Spice Route**:  Evokes adventure, global flavors, and the journey of ingredients.\n",
      "2. **The Kitchen Collective**:  Highlights collaboration, community, and shared culinary passion.\n",
      "3. **Ember & Thyme**:  Combines the warmth of cooking with the essence of fresh herbs.\n",
      "4. **Fork & Fable**:  Suggests creative, storytelling-driven cuisine and a touch of whimsy.\n",
      "5. **Culinary Canvas**:  Emphasizes the artistic and expressive nature of cooking. \n",
      "\n",
      "Here are two names for an AI startup, with a brief explanation of their appeal:\n",
      "\n",
      "1. **Cognito Labs:**  This name combines \"cognition\" (the mental process of acquiring knowledge) with \"labs,\" implying a place of research and innovation. It's concise, memorable, and conveys the focus on advanced AI.\n",
      "\n",
      "2. **Emergent AI:**  This name evokes the idea of AI systems that are constantly evolving and becoming more intelligent. \"Emergent\" suggests a sense of potential and growth, which is fitting for a startup pushing the boundaries of AI. \n",
      "\n"
     ]
    }
   ],
   "source": [
    "#LLM chain in chains\n",
    "\n",
    "from langchain_google_genai import ChatGoogleGenerativeAI\n",
    "from langchain_google_genai import GoogleGenerativeAIEmbeddings\n",
    "from langchain_community.document_loaders import WebBaseLoader\n",
    "from langchain.chains import StuffDocumentsChain\n",
    "from langchain.chains.llm import LLMChain\n",
    "from langchain.prompts import PromptTemplate\n",
    "import os\n",
    "\n",
    "# Set the API key as an environment variable\n",
    "os.environ[\"GOOGLE_API_KEY\"] = \"api key\"\n",
    "\n",
    "# Initialize Model with API key\n",
    "llm = ChatGoogleGenerativeAI(google_api_key=os.environ[\"GOOGLE_API_KEY\"], model=\"gemini-1.5-flash\")\n",
    "\n",
    "\n",
    "# Define the Summarize Chain\n",
    "template = '''Give {number} names for a {domain}\n",
    "startup?\n",
    "'''\n",
    "prompt = PromptTemplate.from_template(template)\n",
    "chain = LLMChain(llm=llm, prompt=prompt)\n",
    "print(chain.run({'number':'5','domain':'cooking'}))\n",
    "print(chain.run({'number':'2','domain':'AI'}))\n"
   ]
  },
  {
   "cell_type": "code",
   "execution_count": 68,
   "id": "fc0da25a-d8a4-4c3d-a248-1038cddea555",
   "metadata": {},
   "outputs": [
    {
     "name": "stdout",
     "output_type": "stream",
     "text": [
      "```sql\n",
      "SELECT \"Name\" FROM Employees ORDER BY \"Salary\" DESC LIMIT 1\n",
      "```\n"
     ]
    }
   ],
   "source": [
    "# Auto SQL chain in chains\n",
    "\n",
    "from langchain.chains import create_sql_query_chain\n",
    "from langchain.utilities import SQLDatabase\n",
    "db = SQLDatabase.from_uri(\"sqlite:///Chinook.db\")\n",
    "import os\n",
    "\n",
    "# Set the API key as an environment variable\n",
    "os.environ[\"GOOGLE_API_KEY\"] = \"api key\"\n",
    "\n",
    "# Initialize Model with API key\n",
    "llm = ChatGoogleGenerativeAI(google_api_key=os.environ[\"GOOGLE_API_KEY\"], model=\"gemini-1.5-flash\")\n",
    "\n",
    "chain = create_sql_query_chain(llm,db)\n",
    "response=chain.invoke({\"question\":\"Get the name of the employee with the highest salary\"})\n",
    "print(response)"
   ]
  },
  {
   "cell_type": "code",
   "execution_count": 69,
   "id": "13ea233d-6ab2-4210-86dd-7949a7255ec9",
   "metadata": {},
   "outputs": [
    {
     "data": {
      "text/plain": [
       "'Answer: 11.442052543837162'"
      ]
     },
     "execution_count": 69,
     "metadata": {},
     "output_type": "execute_result"
    }
   ],
   "source": [
    "#maths chain in chains\n",
    "from langchain import LLMMathChain\n",
    "# Set the API key as an environment variable\n",
    "os.environ[\"GOOGLE_API_KEY\"] = \"api key\"\n",
    "\n",
    "# Initialize Model with API key\n",
    "llm = ChatGoogleGenerativeAI(google_api_key=os.environ[\"GOOGLE_API_KEY\"], model=\"gemini-1.5-flash\",temperature=0)\n",
    "llm_math = LLMMathChain.from_llm(llm)\n",
    "llm_math.run(\"What is the 3rd root of 1498 ?\")\n"
   ]
  },
  {
   "cell_type": "code",
   "execution_count": 32,
   "id": "7426de33-ebda-4ece-98c4-87a6185c3a9c",
   "metadata": {},
   "outputs": [
    {
     "data": {
      "text/plain": [
       "'Virat Kohli is from **Delhi**, India.\\n\\nThe native language of Delhi is **Hindi**. \\n\\nIn Hindi, \"how are you?\" is **\"Aap kaise hain?\"** (आप कैसे हैं?) \\n'"
      ]
     },
     "execution_count": 32,
     "metadata": {},
     "output_type": "execute_result"
    }
   ],
   "source": [
    "#custom chain using langchain expression language(LCEL)\n",
    "\n",
    "from langchain.prompts import ChatPromptTemplate\n",
    "from langchain.schema import StrOutputParser\n",
    "prompt=ChatPromptTemplate.from_template(\"What is the city {person} is from? Translate: {sentence} in the city native language\")\n",
    "os.environ[\"GOOGLE_API_KEY\"] = \"api key\"\n",
    "\n",
    "# Initialize Model with API key\n",
    "model = ChatGoogleGenerativeAI(google_api_key=os.environ[\"GOOGLE_API_KEY\"], model=\"gemini-1.5-flash\")\n",
    "chain = prompt | model | StrOutputParser()\n",
    "chain.invoke({'person': \"Virat Kohli\", 'sentence':'how are you?'})"
   ]
  },
  {
   "cell_type": "code",
   "execution_count": 34,
   "id": "66eb7a74-53e3-4d87-aa41-da552c6f93e2",
   "metadata": {},
   "outputs": [
    {
     "name": "stderr",
     "output_type": "stream",
     "text": [
      "C:\\Users\\pavan\\AppData\\Local\\anaconda3\\envs\\prompt\\Lib\\site-packages\\langchain_core\\_api\\deprecation.py:139: LangChainDeprecationWarning: The class `ZeroShotAgent` was deprecated in LangChain 0.1.0 and will be removed in 0.3.0. Use create_react_agent instead.\n",
      "  _message: str = message,\n"
     ]
    },
    {
     "name": "stdout",
     "output_type": "stream",
     "text": [
      "\n",
      "\n",
      "\u001b[1m> Entering new AgentExecutor chain...\u001b[0m\n",
      "\u001b[32;1m\u001b[1;3mThought: I need to find information about Pawan Kalyan and a link to one of his movies on YouTube.\n",
      "Action: wiki\n",
      "Action Input: Pawan Kalyan\u001b[0m\n",
      "Observation: \u001b[33;1m\u001b[1;3mPage: Pawan Kalyan\n",
      "Summary: Konidala Pawan Kalyan (born 2 September 1971) is an Indian politician, actor and philanthropist, serving as the 10th Deputy Chief Minister of Andhra Pradesh since June 2024. He is also the Minister of Panchayat Raj, Rural Development and Rural Water Supply; Environment, Forests, Science and Technology in the Government of Andhra Pradesh and an MLA representing the Pitapuram constituency. He is the founder and president of the Janasena Party.\n",
      "As an actor, Kalyan is known for his distinctive style and mannerisms in Telugu cinema. He enjoys a huge fanbase across the Telugu states, often described as \"unfathomable,\" \"fiercely loyal,\" and akin to a \"cult following.\" He is among the highest-paid actors in Indian cinema and has been featured in Forbes India's Celebrity 100 list multiple times since 2012. He is the recipient of a Filmfare Award and a SIIMA Award among other accolades.\n",
      "Kalyan made his acting debut in the 1996 film Akkada Ammayi Ikkada Abbayi. Then, he had a streak of six consecutive hits, among which Tholi Prema (1998), Thammudu (1999), Badri (2000), and Kushi (2001) became back-to-back blockbusters. These films established Kalyan as a youth icon with a massive following distinct from his elder brother Chiranjeevi's fanbase. In 2001, he became the first ever South Indian brand ambassador for Pepsi. Kalyan later faced a slump, yet his popularity kept soaring despite the flops. He made a comeback with Jalsa (2008), the highest-grossing Telugu film of that year, and continued with hits like Gabbar Singh (2012), Attarintiki Daredi (2013), Gopala Gopala (2015), and Bheemla Nayak (2022). He received the Filmfare Award for Best Actor for Gabbar Singh. Both Kushi and Attarintiki Daredi held the record for the highest-grossing Telugu film of its era.\n",
      "Kalyan holds a black belt in Karate. In 1997, he was awarded the title \"Pawan\" by the Isshin-ryū Karate Association after a public martial arts demonstration. He practices various martial arts, which he regularly showcases in his films both as a performer and an action choreographer. He is known as \"Power Star\" among his fans and the media. Kalyan is also recognized for his extensive philanthropic work, supporting various social causes. He has offered financial assistance to both individuals and organizations in need. In 2007, he established the charity Common Man Protection Force.\n",
      "In March 2014, Pawan Kalyan founded the Janasena Party (JSP). Although he chose not to contest the 2014 elections, his support and campaigns were pivotal in securing victory for the TDP-BJP alliance in Andhra Pradesh. He later brought national attention to the chronic kidney disease crisis in Uddanam, and led protests against forced land acquisition, and illegal mining in reserved forests. In 2019, JSP contested its first elections, winning one MLA seat with around 6% of the vote. Following this, Kalyan and JSP focused on issues like farmer welfare, illegal sand mining, women's safety, and land encroachment. In 2023, he launched a state-wide tour in his customized vehicle 'Varahi' to connect with voters. In the 2024 elections, Kalyan played a key role in forming an alliance between JSP, TDP, and BJP, which led to a landslide victory. Janasena won each of the 21 MLA seats and 2 MP seats it contested. Kalyan was elected from the Pitapuram constituency by a margin of over 70,000 votes, subsequently becoming the deputy chief minister.\n",
      "\n",
      "Page: Pawan Kalyan filmography\n",
      "Summary: Pawan Kalyan is an Indian actor, filmmaker, action choreographer, martial artist, politician, and philanthropist who works in Telugu cinema. He is currently serving as the 10th deputy chief minister of Andhra Pradesh since June 2024.\n",
      "Pawan Kalyan made his acting debut in the 1996 film Akkada Ammayi Ikkada Abbayi. His next four films were all box-office successes — Gokulamlo Seeta (1997), Suswagatham (1998), Tholi Prema (1998), and Thammudu (1999). His subsequent films Puri Jagannadh's Badri (2000) and S. J. Su\u001b[0m\n",
      "Thought:\u001b[32;1m\u001b[1;3mThought: I have information about Pawan Kalyan from Wikipedia. Now I need to find a link to one of his movies on YouTube.\n",
      "Action: youtube\n",
      "Action Input: 'Pawan Kalyan movie'\u001b[0m\n",
      "Observation: \u001b[36;1m\u001b[1;3m['https://www.youtube.com/watch?v=RL0zSihlfOM&pp=ygUUJ1Bhd2FuIEthbHlhbiBtb3ZpZSc%3D', 'https://www.youtube.com/watch?v=ABLXqW8-g6U&pp=ygUUJ1Bhd2FuIEthbHlhbiBtb3ZpZSc%3D']\u001b[0m\n",
      "Thought:\u001b[32;1m\u001b[1;3mThought: I now know the final answer\n",
      "Final Answer: Pawan Kalyan is an Indian politician, actor, and philanthropist. He is known for his distinctive style and mannerisms in Telugu cinema and has a huge fanbase. He made his acting debut in 1996 with the film Akkada Ammayi Ikkada Abbayi. Some of his most popular films include Tholi Prema, Thammudu, Badri, Kushi, Jalsa, Gabbar Singh, Attarintiki Daredi, Gopala Gopala, and Bheemla Nayak. Here is a link to one of his movies on YouTube: https://www.youtube.com/watch?v=RL0zSihlfOM&pp=ygUUJ1Bhd2FuIEthbHlhbiBtb3ZpZSc%3D \n",
      "\u001b[0m\n",
      "\n",
      "\u001b[1m> Finished chain.\u001b[0m\n"
     ]
    },
    {
     "data": {
      "text/plain": [
       "'Pawan Kalyan is an Indian politician, actor, and philanthropist. He is known for his distinctive style and mannerisms in Telugu cinema and has a huge fanbase. He made his acting debut in 1996 with the film Akkada Ammayi Ikkada Abbayi. Some of his most popular films include Tholi Prema, Thammudu, Badri, Kushi, Jalsa, Gabbar Singh, Attarintiki Daredi, Gopala Gopala, and Bheemla Nayak. Here is a link to one of his movies on YouTube: https://www.youtube.com/watch?v=RL0zSihlfOM&pp=ygUUJ1Bhd2FuIEthbHlhbiBtb3ZpZSc%3D'"
      ]
     },
     "execution_count": 34,
     "metadata": {},
     "output_type": "execute_result"
    }
   ],
   "source": [
    "#Building Agents with langchain\n",
    "from langchain.agents import ZeroShotAgent, Tool, AgentExecutor\n",
    "from langchain.memory import ConversationBufferMemory\n",
    "from langchain import OpenAI, LLMChain\n",
    "from langchain.tools import WikipediaQueryRun\n",
    "from langchain.utilities import WikipediaAPIWrapper\n",
    "from langchain.tools import YouTubeSearchTool\n",
    "import os\n",
    "os.environ[\"GOOGLE_API_KEY\"] = \"api key\"\n",
    "youtube = YouTubeSearchTool()\n",
    "wiki = WikipediaQueryRun(api_wrapper=WikipediaAPIWrapper())\n",
    "tools = [\n",
    "Tool(name=\"youtube\",func=youtube.run,description=\"Helps in getting youtube videos\",),\n",
    "Tool(name=\"wiki\",func=wiki.run,description=\"Useful to search about a popular entity\",)\n",
    "]\n",
    "\n",
    "prefix = \"Answer the question asked. You have access to the following tools:\"\n",
    "suffix = \"Begin! {chat_history} Question: {input} {agent_scratchpad}\"\n",
    "prompt = ZeroShotAgent.create_prompt(tools,prefix=prefix,suffix=suffix,input_variables=[\"input\",\"chat_history\",\"agent_scratchpad\"],)\n",
    "memory = ConversationBufferMemory(memory_key=\"chat_history\")\n",
    "llm_chain=LLMChain(llm=ChatGoogleGenerativeAI(google_api_key=os.environ[\"GOOGLE_API_KEY\"], model=\"gemini-1.5-flash\",temperature=0),prompt=prompt)\n",
    "agent=ZeroShotAgent(llm_chain=llm_chain, tools=tools, verbose=True)\n",
    "agent_chain = AgentExecutor.from_agent_and_tools(agent=agent, tools=tools, verbose=True, memory=memory)\n",
    "agent_chain.run(input=\"Tell me something about pawan kalyan. Also, get me the link to one of his movies from YouTube\")"
   ]
  },
  {
   "cell_type": "code",
   "execution_count": null,
   "id": "28e6a047-f16e-47dc-83f8-72cff523bf6c",
   "metadata": {},
   "outputs": [],
   "source": [
    "#custom tools for agents\n",
    "from pyowm.owm import OWM\n",
    "from pyowm.utils.config import get_default_config\n",
    "from typing import Type\n",
    "from pydantic import BaseModel, Field\n",
    "from langchain.tools import BaseTool\n",
    "from langchain.agents import AgentType\n",
    "from langchain.chat_models import ChatOpenAI\n",
    "from langchain.agents import initialize_agent\n",
    "from langchain.agents.tools import Tool\n",
    "from langchain_experimental.plan_and_execute import PlanAndExecute,load_agent_executor, load_chat_planner\n",
    "import os\n",
    "os.environ[\"GOOGLE_API_KEY\"] = \"apikey\"\n",
    "def get_weather(city):\n",
    "   config_dict = get_default_config()\n",
    "   config_dict['language'] = 'en' # your language here, eg. French\n",
    "   owm = OWM('your-weather-api', config_dict)\n",
    "   mgr = owm.weather_manager()\n",
    "   observation = mgr.weather_at_place('Hyderabad, India')\n",
    "   temperature=str(observation.weather.temperature(\"celsius\")[\"temp\"])+'°C'\n",
    "   humidity = str(observation.weather.humidity)+'%'\n",
    "   wind = str(observation.weather.wind())+' m/s'\n",
    "   status = observation.weather.detailed_status\n",
    "   return{'temp':temperature,'humid':humidity,'wind':wind,'status':status}\n",
    "class GetWeatherInput(BaseModel):\n",
    "   \"\"\"Inputs for get_weather\"\"\"\n",
    "    city:str=Field(description=\"City name with country separated by comma\")\n",
    "class GetWeatherTool(BaseTool):\n",
    "   name = \"get_weather_details_of_a_city\"\n",
    "   description = \"\"\"Useful to get weather details of a city.Mandatory input format is 'city, country'.\"\"\"\n",
    "   args_schema: Type[BaseModel] = GetWeatherInput\n",
    "   def _run(self, city: str):\n",
    "     weather = get_weather(city)\n",
    "     return weather\n",
    "   def _arun(self, city: str):\n",
    "     raise NotImplementedError(\"this tool doesn't support async\")\n",
    "llm = ChatGoogleGenerativeAI(google_api_key=os.environ[\"GOOGLE_API_KEY\"], model=\"gemini-1.5-flash\")\n",
    "tools = [GetWeatherTool()]\n",
    "model = ChatGoogleGenerativeAI(google_api_key=os.environ[\"GOOGLE_API_KEY\"], model=\"gemini-1.5-flash\")\n",
    "planner = load_chat_planner(model)\n",
    "executor = load_agent_executor(model, tools, verbose=True)\n",
    "agent = PlanAndExecute(planner=planner, executor=executor, verbose=True)\n",
    "agent.run('Should I visit Manali, India this December based on the weather conditions?')"
   ]
  },
  {
   "cell_type": "code",
   "execution_count": 42,
   "id": "6954f926-5070-4e53-970e-6c5b57e36f2e",
   "metadata": {},
   "outputs": [
    {
     "data": {
      "text/plain": [
       "['## Indian Baby Boy Names:\\n\\nHere are some suggestions for Indian baby boy names',\n",
       " 'categorized by meaning and origin:\\n\\n**Traditional & Classic:**\\n\\n* **Aryan:** Noble',\n",
       " 'warrior\\n* **Arjun:** White',\n",
       " 'bright\\n* **Dev:** God',\n",
       " 'divine\\n* **Jai:** Victory\\n* **Krishna:** Dark',\n",
       " 'black\\n* **Rahul:** Leader',\n",
       " 'guide\\n* **Rohan:** Ascending',\n",
       " 'rising\\n* **Siddharth:** Success',\n",
       " 'accomplishment\\n* **Vikram:** Brave',\n",
       " 'valiant\\n\\n**Modern & Unique:**\\n\\n* **Ahaan:** First ray of sunlight\\n* **Aarav:** Calm',\n",
       " 'peaceful\\n* **Aditya:** Sun\\n* **Ayaan:** Gift from God\\n* **Dhruv:** Pole star',\n",
       " 'steadfast\\n* **Ishaan:** Lord Shiva\\n* **Kairav:** Lotus flower\\n* **Vivaan:** Full of life',\n",
       " 'vibrant\\n* **Yash:** Glory',\n",
       " 'fame\\n\\n**Meaningful & Inspiring:**\\n\\n* **Abhay:** Fearless\\n* **Aniket:** Unconquerable\\n* **Anurag:** Love',\n",
       " 'affection\\n* **Dhanush:** Bow',\n",
       " 'archer\\n* **Ishan:** Lord Shiva\\n* **Niranjan:** Eternal',\n",
       " 'immortal\\n* **Samarth:** Powerful',\n",
       " 'capable\\n* **Tejas:** Radiance',\n",
       " 'brilliance\\n* **Viraj:** Shining',\n",
       " 'radiant\\n\\n**Regional & Cultural:**\\n\\n* **Abhinav:** New',\n",
       " 'innovative (Hindi)\\n* **Aravind:** Lotus (Tamil)\\n* **Dhananjay:** Conqueror of wealth (Sanskrit)\\n* **Harish:** Lord Shiva (Hindi)\\n* **Karan:** Earthenware pot (Sanskrit)\\n* **Rishi:** Sage',\n",
       " 'wise man (Sanskrit)\\n* **Shaurya:** Courage',\n",
       " \"bravery (Hindi)\\n* **Varun:** God of rain (Sanskrit)\\n\\n**Tips for Choosing a Name:**\\n\\n* **Consider the meaning:** Choose a name with a positive and meaningful message.\\n* **Think about the pronunciation:** Make sure the name is easy to pronounce and spell.\\n* **Check for any negative connotations:** Avoid names that have negative or unpleasant associations.\\n* **Look for names that are unique but not too unusual:** Find a balance between originality and familiarity.\\n* **Consider your family's traditions:** Choose a name that honors your family's heritage.\\n\\n**Remember:** This is just a small sample of Indian baby boy names. There are many other beautiful and meaningful names to choose from. Take your time\",\n",
       " 'explore different options',\n",
       " 'and choose a name that you love and that reflects your values.']"
      ]
     },
     "execution_count": 42,
     "metadata": {},
     "output_type": "execute_result"
    }
   ],
   "source": [
    "# CommaSeparatedListOutputParser\n",
    "from langchain.output_parsers import CommaSeparatedListOutputParser\n",
    "from langchain.prompts import PromptTemplate\n",
    "from langchain.llms import OpenAI\n",
    "import os\n",
    "os.environ[\"GOOGLE_API_KEY\"] = \"api key\"\n",
    "output_parser = CommaSeparatedListOutputParser()\n",
    "\n",
    "prompt = PromptTemplate.from_template(\n",
    "\"Answer the following question: {question}\"\n",
    ")\n",
    "parser = CommaSeparatedListOutputParser()\n",
    "model =  ChatGoogleGenerativeAI(google_api_key=os.environ[\"GOOGLE_API_KEY\"], model=\"gemini-1.5-flash\",temperature=0)\n",
    "chain = prompt | model | parser\n",
    "list(chain.invoke({\"question\": \"Suggest any names for baby boy of india\"}))"
   ]
  },
  {
   "cell_type": "code",
   "execution_count": 50,
   "id": "1a65550a-8e2c-4ba8-b0bd-4bffc12ed3d6",
   "metadata": {},
   "outputs": [
    {
     "name": "stdout",
     "output_type": "stream",
     "text": [
      "\n",
      "\n",
      "\u001b[1m> Entering new LLMChain chain...\u001b[0m\n",
      "Prompt after formatting:\n",
      "\u001b[32;1m\u001b[1;3mYou are a chatbot having a conversation with a human.\n",
      "\n",
      "Human: Hi there my friend\n",
      "Chatbot:\u001b[0m\n",
      "\n",
      "\u001b[1m> Finished chain.\u001b[0m\n"
     ]
    },
    {
     "data": {
      "text/plain": [
       "\"Hello! 👋  It's nice to hear from you. What can I do for you today? 😊 \\n\""
      ]
     },
     "execution_count": 50,
     "metadata": {},
     "output_type": "execute_result"
    }
   ],
   "source": [
    "#conversational Buffermemory in memory\n",
    "from langchain.chains import LLMChain\n",
    "from langchain.llms import OpenAI\n",
    "from langchain.memory import ConversationBufferMemory\n",
    "from langchain.prompts import PromptTemplate\n",
    "import os\n",
    "os.environ[\"GOOGLE_API_KEY\"] = \"api key\"\n",
    "template=\"\"\"You are a chatbot having a conversation with a human.\n",
    "{chat_history}\n",
    "Human: {human_input}\n",
    "Chatbot:\"\"\"\n",
    "prompt = PromptTemplate(input_variables=[\"chat_history\", \"human_input\"], template=template)\n",
    "memory = ConversationBufferMemory(memory_key=\"chat_history\")\n",
    "llm = ChatGoogleGenerativeAI(google_api_key=os.environ[\"GOOGLE_API_KEY\"], model=\"gemini-1.5-flash\")\n",
    "llm_chain = LLMChain(llm=llm,prompt=prompt,verbose=True,memory=memory,)\n",
    "llm_chain.predict(human_input=\"Hi there my friend\")"
   ]
  },
  {
   "cell_type": "code",
   "execution_count": 51,
   "id": "6e27c133-bf20-4eb4-9570-fda6fe510a23",
   "metadata": {},
   "outputs": [
    {
     "name": "stdout",
     "output_type": "stream",
     "text": [
      "\n",
      "\n",
      "\u001b[1m> Entering new LLMChain chain...\u001b[0m\n",
      "Prompt after formatting:\n",
      "\u001b[32;1m\u001b[1;3mYou are a chatbot having a conversation with a human.\n",
      "Human: Hi there my friend\n",
      "AI: Hello! 👋  It's nice to hear from you. What can I do for you today? 😊 \n",
      "\n",
      "Human: Tell me what is Machine Learning?\n",
      "Chatbot:\u001b[0m\n",
      "\n",
      "\u001b[1m> Finished chain.\u001b[0m\n"
     ]
    },
    {
     "data": {
      "text/plain": [
       "\"That's a great question! 😊  Machine learning (ML) is a type of artificial intelligence (AI) that allows computers to learn from data without being explicitly programmed. \\n\\nThink of it like teaching a child:\\n\\n* **You show the child pictures of cats and dogs.**  (This is the **data**)\\n* **You tell the child which picture is a cat and which is a dog.** (This is the **training**)\\n* **Eventually, the child learns to recognize cats and dogs on their own.** (This is the **machine learning**)\\n\\nIn ML, we feed computers massive amounts of data and use algorithms to help them find patterns and make predictions.  \\n\\nHere are some key things to know about machine learning:\\n\\n* **It's all about data:** The more data you give a machine learning model, the better it will perform.\\n* **It's used everywhere:** From recommending movies on Netflix to detecting fraud in your bank account, machine learning is changing the world around us.\\n* **It's constantly evolving:** New algorithms and techniques are being developed all the time, making machine learning more powerful and versatile.\\n\\nIs there anything else you'd like to know about machine learning? 🤔 \\n\""
      ]
     },
     "execution_count": 51,
     "metadata": {},
     "output_type": "execute_result"
    }
   ],
   "source": [
    "llm_chain.predict(human_input=\"Tell me what is Machine Learning?\")"
   ]
  },
  {
   "cell_type": "code",
   "execution_count": 52,
   "id": "4e29353c-a9a9-4009-b8d0-7a0259a1c700",
   "metadata": {},
   "outputs": [
    {
     "name": "stdout",
     "output_type": "stream",
     "text": [
      "\n",
      "\n",
      "\u001b[1m> Entering new LLMChain chain...\u001b[0m\n",
      "Prompt after formatting:\n",
      "\u001b[32;1m\u001b[1;3mYou are a chatbot having a conversation with a human.\n",
      "Human: Hi there my friend\n",
      "AI: Hello! 👋  It's nice to hear from you. What can I do for you today? 😊 \n",
      "\n",
      "Human: Tell me what is Machine Learning?\n",
      "AI: That's a great question! 😊  Machine learning (ML) is a type of artificial intelligence (AI) that allows computers to learn from data without being explicitly programmed. \n",
      "\n",
      "Think of it like teaching a child:\n",
      "\n",
      "* **You show the child pictures of cats and dogs.**  (This is the **data**)\n",
      "* **You tell the child which picture is a cat and which is a dog.** (This is the **training**)\n",
      "* **Eventually, the child learns to recognize cats and dogs on their own.** (This is the **machine learning**)\n",
      "\n",
      "In ML, we feed computers massive amounts of data and use algorithms to help them find patterns and make predictions.  \n",
      "\n",
      "Here are some key things to know about machine learning:\n",
      "\n",
      "* **It's all about data:** The more data you give a machine learning model, the better it will perform.\n",
      "* **It's used everywhere:** From recommending movies on Netflix to detecting fraud in your bank account, machine learning is changing the world around us.\n",
      "* **It's constantly evolving:** New algorithms and techniques are being developed all the time, making machine learning more powerful and versatile.\n",
      "\n",
      "Is there anything else you'd like to know about machine learning? 🤔 \n",
      "\n",
      "Human: Anything else you wish to add?\n",
      "Chatbot:\u001b[0m\n",
      "\n",
      "\u001b[1m> Finished chain.\u001b[0m\n"
     ]
    },
    {
     "data": {
      "text/plain": [
       "\"You're right to ask! There's a lot more to machine learning than just the basics. \\n\\nHere are a few more things to consider:\\n\\n**Types of Machine Learning:**\\n\\n* **Supervised Learning:**  This is like the cat and dog example. We provide labeled data (cats vs. dogs) and the model learns to predict labels for new data. This is used for tasks like image classification, spam detection, and predicting customer churn.\\n* **Unsupervised Learning:** Here, the model learns patterns from unlabeled data. Think of grouping similar items together without knowing what they are. This is used for tasks like customer segmentation, anomaly detection, and finding hidden relationships in data.\\n* **Reinforcement Learning:** This involves training an agent to make decisions in an environment by rewarding good actions and penalizing bad ones. This is used for tasks like game playing, robotics, and self-driving cars.\\n\\n**The Importance of Bias:**\\n\\n* Machine learning models are only as good as the data they are trained on. If the data is biased, the model will also be biased. This can have serious consequences, especially when it comes to fairness and ethical considerations.\\n\\n**The Future of Machine Learning:**\\n\\n* Machine learning is a rapidly evolving field with exciting possibilities for the future. We're likely to see even more innovative applications of ML in areas like healthcare, finance, and environmental science.\\n\\nLet me know if you want to explore any of these topics further! 😊 \\n\""
      ]
     },
     "execution_count": 52,
     "metadata": {},
     "output_type": "execute_result"
    }
   ],
   "source": [
    "llm_chain.predict(human_input=\"Anything else you wish to add?\")"
   ]
  },
  {
   "cell_type": "code",
   "execution_count": 54,
   "id": "f30e7ba5-47a3-428f-a9c4-4c0290cad671",
   "metadata": {},
   "outputs": [
    {
     "data": {
      "text/plain": [
       "{'chat_history': \"Human: Hi there my friend\\nAI: Hello! 👋  It's nice to hear from you. What can I do for you today? 😊 \\n\\nHuman: Tell me what is Machine Learning?\\nAI: That's a great question! 😊  Machine learning (ML) is a type of artificial intelligence (AI) that allows computers to learn from data without being explicitly programmed. \\n\\nThink of it like teaching a child:\\n\\n* **You show the child pictures of cats and dogs.**  (This is the **data**)\\n* **You tell the child which picture is a cat and which is a dog.** (This is the **training**)\\n* **Eventually, the child learns to recognize cats and dogs on their own.** (This is the **machine learning**)\\n\\nIn ML, we feed computers massive amounts of data and use algorithms to help them find patterns and make predictions.  \\n\\nHere are some key things to know about machine learning:\\n\\n* **It's all about data:** The more data you give a machine learning model, the better it will perform.\\n* **It's used everywhere:** From recommending movies on Netflix to detecting fraud in your bank account, machine learning is changing the world around us.\\n* **It's constantly evolving:** New algorithms and techniques are being developed all the time, making machine learning more powerful and versatile.\\n\\nIs there anything else you'd like to know about machine learning? 🤔 \\n\\nHuman: Anything else you wish to add?\\nAI: You're right to ask! There's a lot more to machine learning than just the basics. \\n\\nHere are a few more things to consider:\\n\\n**Types of Machine Learning:**\\n\\n* **Supervised Learning:**  This is like the cat and dog example. We provide labeled data (cats vs. dogs) and the model learns to predict labels for new data. This is used for tasks like image classification, spam detection, and predicting customer churn.\\n* **Unsupervised Learning:** Here, the model learns patterns from unlabeled data. Think of grouping similar items together without knowing what they are. This is used for tasks like customer segmentation, anomaly detection, and finding hidden relationships in data.\\n* **Reinforcement Learning:** This involves training an agent to make decisions in an environment by rewarding good actions and penalizing bad ones. This is used for tasks like game playing, robotics, and self-driving cars.\\n\\n**The Importance of Bias:**\\n\\n* Machine learning models are only as good as the data they are trained on. If the data is biased, the model will also be biased. This can have serious consequences, especially when it comes to fairness and ethical considerations.\\n\\n**The Future of Machine Learning:**\\n\\n* Machine learning is a rapidly evolving field with exciting possibilities for the future. We're likely to see even more innovative applications of ML in areas like healthcare, finance, and environmental science.\\n\\nLet me know if you want to explore any of these topics further! 😊 \\n\"}"
      ]
     },
     "execution_count": 54,
     "metadata": {},
     "output_type": "execute_result"
    }
   ],
   "source": [
    "memory.load_memory_variables({})"
   ]
  },
  {
   "cell_type": "code",
   "execution_count": 56,
   "id": "8e026300-9dde-4f93-87db-5edd6c16c2c0",
   "metadata": {},
   "outputs": [
    {
     "name": "stderr",
     "output_type": "stream",
     "text": [
      "C:\\Users\\pavan\\AppData\\Local\\anaconda3\\envs\\prompt\\Lib\\site-packages\\langchain_core\\_api\\deprecation.py:139: LangChainDeprecationWarning: The class `ConversationChain` was deprecated in LangChain 0.2.7 and will be removed in 1.0. Use RunnableWithMessageHistory: https://api.python.langchain.com/en/latest/runnables/langchain_core.runnables.history.RunnableWithMessageHistory.html instead.\n",
      "  _message: str = message,\n"
     ]
    },
    {
     "name": "stdout",
     "output_type": "stream",
     "text": [
      "\n",
      "\n",
      "\u001b[1m> Entering new ConversationChain chain...\u001b[0m\n",
      "Prompt after formatting:\n",
      "\u001b[32;1m\u001b[1;3mThe following is a friendly conversation between a human and an AI. The AI is talkative and provides lots of specific details from its context. If the AI does not know the answer to a question, it truthfully says it does not know.\n",
      "\n",
      "Current conversation:\n",
      "Current summary: The human and AI greet each other. \n",
      "\n",
      "Human: Hey dude !! do you know what happened to Nandu?\n",
      "AI:\u001b[0m\n",
      "\n",
      "\u001b[1m> Finished chain.\u001b[0m\n",
      "\n",
      "\n",
      "\u001b[1m> Entering new ConversationChain chain...\u001b[0m\n",
      "Prompt after formatting:\n",
      "\u001b[32;1m\u001b[1;3mThe following is a friendly conversation between a human and an AI. The AI is talkative and provides lots of specific details from its context. If the AI does not know the answer to a question, it truthfully says it does not know.\n",
      "\n",
      "Current conversation:\n",
      "The human and AI greet each other. The human then asks the AI if they know who Nandu is. The AI responds that they don't know who Nandu is and asks the human to tell them more. \n",
      "\n",
      "Human: He met with a car accident yesterday. Suggest me some hospitals for a good treatment\n",
      "AI:\u001b[0m\n",
      "\n",
      "\u001b[1m> Finished chain.\u001b[0m\n"
     ]
    },
    {
     "data": {
      "text/plain": [
       "\"I'm so sorry to hear about Nandu's accident. I can't recommend specific hospitals because I don't have access to real-time information like hospital locations, specialties, or availability. \\n\\nTo get the best recommendations, I suggest you:\\n\\n* **Contact your local emergency services:** They can direct you to the nearest and most appropriate hospital for Nandu's situation.\\n* **Check online hospital directories:** Websites like [Hospital Name] or [Hospital Name] often have information about hospitals in your area, including their specialties and contact information.\\n* **Ask for recommendations from friends, family, or your doctor:** They may have personal experience with hospitals in your area and can offer valuable insights.\\n\\nI hope Nandu makes a full recovery. \\n\""
      ]
     },
     "execution_count": 56,
     "metadata": {},
     "output_type": "execute_result"
    }
   ],
   "source": [
    "#conversational summary memory\n",
    "from langchain.chains import ConversationChain\n",
    "from langchain.memory import ConversationSummaryMemory,ChatMessageHistory\n",
    "import os\n",
    "os.environ[\"GOOGLE_API_KEY\"] = \"api key\"\n",
    "memory=ConversationSummaryMemory(llm= ChatGoogleGenerativeAI(google_api_key=os.environ[\"GOOGLE_API_KEY\"], model=\"gemini-1.5-flash\",temperature=0))\n",
    "memory.save_context({\"input\": \"hi\"}, {\"output\": \"whats up\"})\n",
    "llm =  ChatGoogleGenerativeAI(google_api_key=os.environ[\"GOOGLE_API_KEY\"], model=\"gemini-1.5-flash\",temperature=0)\n",
    "chat = ConversationChain(llm=llm,memory=memory,verbose=True)\n",
    "chat.predict(input='Hey dude !! do you know what happened to Nandu?')\n",
    "chat.predict(input='He met with a car accident yesterday. Suggest me some hospitals for a good treatment')"
   ]
  },
  {
   "cell_type": "code",
   "execution_count": 57,
   "id": "dee02dc1-9c0e-4b2b-ba1e-df2f8a08e783",
   "metadata": {},
   "outputs": [
    {
     "name": "stdout",
     "output_type": "stream",
     "text": [
      "\n",
      "\n",
      "\u001b[1m> Entering new ConversationChain chain...\u001b[0m\n",
      "Prompt after formatting:\n",
      "\u001b[32;1m\u001b[1;3mThe following is a friendly conversation between a human and an AI. The AI is talkative and provides lots of specific details from its context. If the AI does not know the answer to a question, it truthfully says it does not know.\n",
      "\n",
      "Current conversation:\n",
      "The human and AI greet each other. The human then asks the AI if they know who Nandu is. The AI responds that they don't know who Nandu is and asks the human to tell them more. The human tells the AI that Nandu was in a car accident and asks for hospital recommendations. The AI expresses sympathy but explains it cannot provide specific hospital recommendations due to lack of real-time information. Instead, the AI suggests contacting local emergency services, checking online hospital directories, and asking for recommendations from friends, family, or a doctor. The AI expresses hope for Nandu's full recovery. \n",
      "\n",
      "Human: What should we do next in such a situation?\n",
      "AI:\u001b[0m\n",
      "\n",
      "\u001b[1m> Finished chain.\u001b[0m\n"
     ]
    },
    {
     "data": {
      "text/plain": [
       "\"That's a great question!  Since Nandu was in a car accident, the most important thing is to make sure they receive immediate medical attention. Here's a breakdown of what you should do next:\\n\\n**1. Assess the Situation:**\\n\\n* **Is Nandu conscious and responsive?** If so, try to get them to a safe place and call emergency services.\\n* **Is Nandu unconscious or seriously injured?** Call emergency services immediately.  Don't try to move them unless it's absolutely necessary to get them out of danger.\\n\\n**2. Call Emergency Services:**\\n\\n* **Dial 911 (or your local emergency number) immediately.**  Explain the situation clearly and provide your location.\\n* **Follow the instructions given by the dispatcher.** They will guide you on what to do until help arrives.\\n\\n**3. Provide Assistance:**\\n\\n* **If Nandu is conscious, offer comfort and reassurance.**  Let them know that help is on the way.\\n* **If Nandu is unconscious, check for a pulse and breathing.** If necessary, begin CPR (if you are trained).\\n\\n**4. Stay Calm and Be Prepared:**\\n\\n* **Stay calm and try to remain focused.** This will help you make better decisions.\\n* **Be prepared to provide information to emergency responders.** This includes Nandu's name, age, any known medical conditions, and the details of the accident.\\n\\n**5. Once Emergency Services Arrive:**\\n\\n* **Cooperate with the paramedics and answer their questions honestly.**\\n* **Follow their instructions and allow them to do their job.**\\n\\n**Remember:**  It's crucial to act quickly and decisively in an emergency situation.  By following these steps, you can help ensure that Nandu receives the best possible care. \\n\\nI hope Nandu makes a full recovery.  Please let me know if you have any other questions. \\n\""
      ]
     },
     "execution_count": 57,
     "metadata": {},
     "output_type": "execute_result"
    }
   ],
   "source": [
    "chat.predict(input='What should we do next in such a situation?')"
   ]
  },
  {
   "cell_type": "code",
   "execution_count": 58,
   "id": "c6950d3d-edca-4b17-9f8b-9cb200fb20b3",
   "metadata": {},
   "outputs": [
    {
     "data": {
      "text/plain": [
       "'The human asks the AI about a friend named Nandu who was in a car accident. The AI expresses sympathy and offers advice on how to find a good hospital, suggesting contacting emergency services, checking online directories, and asking for recommendations. The human then asks what to do in such a situation, and the AI provides a detailed breakdown of steps to take, including assessing the situation, calling emergency services, providing assistance, staying calm, and cooperating with paramedics. The AI emphasizes the importance of acting quickly and decisively in an emergency. \\n'"
      ]
     },
     "execution_count": 58,
     "metadata": {},
     "output_type": "execute_result"
    }
   ],
   "source": [
    "messages = memory.chat_memory.messages\n",
    "previous_summary = \"\"\n",
    "memory.predict_new_summary(messages, previous_summary)"
   ]
  }
 ],
 "metadata": {
  "kernelspec": {
   "display_name": "Python 3 (ipykernel)",
   "language": "python",
   "name": "python3"
  },
  "language_info": {
   "codemirror_mode": {
    "name": "ipython",
    "version": 3
   },
   "file_extension": ".py",
   "mimetype": "text/x-python",
   "name": "python",
   "nbconvert_exporter": "python",
   "pygments_lexer": "ipython3",
   "version": "3.11.9"
  }
 },
 "nbformat": 4,
 "nbformat_minor": 5
}
